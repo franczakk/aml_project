{
 "cells": [
  {
   "cell_type": "code",
   "execution_count": null,
   "metadata": {},
   "outputs": [],
   "source": [
    "import pandas as pd\n",
    "import numpy as np\n",
    "\n",
    "def generate_data(p, n, d, g, random_state=None):\n",
    "    \"\"\"\n",
    "    p - bernoulli distibution pobability of class 1\n",
    "    n - number of samples\n",
    "    d - number of features\n",
    "    g - covariance decay factor (controls how strongly features are correlated in the covariance matrix) \n",
    "\n",
    "    0 < p, g < 1\n",
    "    n, d >= 1\n",
    "    \"\"\"\n",
    "\n",
    "    if random_state is not None:\n",
    "        np.random.seed(random_state)\n",
    "    \n",
    "    Y = np.random.binomial(n=1, p=p, size=n)\n",
    "    \n",
    "    mean_0 = np.zeros(d)\n",
    "    mean_1 = np.array([1/i for i in range(1, d + 1)])\n",
    "\n",
    "    S = np.fromfunction(lambda i, j: g ** np.abs(i - j), (d, d), dtype=float)\n",
    "    \n",
    "    X = np.array([\n",
    "        np.random.multivariate_normal(mean_0 if y == 0 else mean_1, S)\n",
    "        for y in Y\n",
    "    ])\n",
    "    \n",
    "    return X, Y"
   ]
  },
  {
   "cell_type": "code",
   "execution_count": 9,
   "metadata": {},
   "outputs": [
    {
     "data": {
      "text/plain": [
       "(array([[ 2.20797553,  1.71817889,  0.3524896 ,  0.19556076],\n",
       "        [-0.31951894,  0.20977864,  1.15822256,  1.43306738],\n",
       "        [ 0.70159697,  0.48317554,  1.03877838,  0.21112802],\n",
       "        [-0.66196377, -0.29820445, -1.21706781, -0.87857212],\n",
       "        [ 2.06312995,  0.84744764,  0.19397175, -0.65656661],\n",
       "        [-1.28251338, -0.1825835 ,  0.01679285, -0.22486265],\n",
       "        [-0.21220505, -0.01658783,  0.68286282,  0.44928951],\n",
       "        [ 0.84229523,  0.09362009,  0.40955012, -0.25289282],\n",
       "        [ 2.1473269 ,  1.86721866,  2.87916859,  2.00138519],\n",
       "        [-1.52070446, -0.92223722,  0.37522766, -0.51386324]]),\n",
       " array([1, 0, 1, 1, 1, 0, 0, 0, 1, 0]))"
      ]
     },
     "execution_count": 9,
     "metadata": {},
     "output_type": "execute_result"
    }
   ],
   "source": [
    "p = 0.5\n",
    "n = 10\n",
    "d = 4\n",
    "g = 0.8\n",
    "\n",
    "generate_data(p, n, d, g, random_state=None)"
   ]
  }
 ],
 "metadata": {
  "kernelspec": {
   "display_name": "Python 3",
   "language": "python",
   "name": "python3"
  },
  "language_info": {
   "codemirror_mode": {
    "name": "ipython",
    "version": 3
   },
   "file_extension": ".py",
   "mimetype": "text/x-python",
   "name": "python",
   "nbconvert_exporter": "python",
   "pygments_lexer": "ipython3",
   "version": "3.11.2"
  }
 },
 "nbformat": 4,
 "nbformat_minor": 2
}
